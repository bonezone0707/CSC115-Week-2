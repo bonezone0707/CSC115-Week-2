{
  "nbformat": 4,
  "nbformat_minor": 0,
  "metadata": {
    "colab": {
      "provenance": [],
      "include_colab_link": true
    },
    "kernelspec": {
      "name": "python3",
      "display_name": "Python 3"
    },
    "language_info": {
      "name": "python"
    }
  },
  "cells": [
    {
      "cell_type": "markdown",
      "metadata": {
        "id": "view-in-github",
        "colab_type": "text"
      },
      "source": [
        "<a href=\"https://colab.research.google.com/github/JBattana/115-Assignments-OnCampus-/blob/main/Week_4_Assignment_4_1.ipynb\" target=\"_parent\"><img src=\"https://colab.research.google.com/assets/colab-badge.svg\" alt=\"Open In Colab\"/></a>"
      ]
    },
    {
      "cell_type": "markdown",
      "source": [
        "Load the dataset and perform the following operations to visualize data and explain your insights in one sentence.\n",
        "\n",
        "The intent of this assignment is to be able to communicate the insights that you found\n",
        "\n",
        "---\n",
        "\n"
      ],
      "metadata": {
        "id": "dKFloYRP72aw"
      }
    },
    {
      "cell_type": "markdown",
      "source": [
        "1. Visualize the survival rate of passengers based on their ticket class (1st, 2nd, or 3rd class).\n",
        "Were the passengers in higher classes more likely to survive?"
      ],
      "metadata": {
        "id": "SsVjyi447_sa"
      }
    },
    {
      "cell_type": "code",
      "source": [
        "#Code here"
      ],
      "metadata": {
        "id": "BWGs0q9M9LaW"
      },
      "execution_count": null,
      "outputs": []
    },
    {
      "cell_type": "markdown",
      "source": [
        "Explanation here:"
      ],
      "metadata": {
        "id": "Gg1ogzE99K-B"
      }
    },
    {
      "cell_type": "markdown",
      "source": [
        "2. Create a histogram to visualize the distribution of passenger ages. What is the age distribution like on the Titanic?"
      ],
      "metadata": {
        "id": "i8uiibSH8IIw"
      }
    },
    {
      "cell_type": "code",
      "source": [
        "#Code here"
      ],
      "metadata": {
        "id": "qbG5HYtd9I19"
      },
      "execution_count": null,
      "outputs": []
    },
    {
      "cell_type": "markdown",
      "source": [
        "Explanation here:"
      ],
      "metadata": {
        "id": "qo_pJuYC8xal"
      }
    },
    {
      "cell_type": "markdown",
      "source": [
        "3. Generate a bar chart to compare the survival rates of male and female passengers. Did gender play a role in survival?"
      ],
      "metadata": {
        "id": "E4oWmbUK8RHG"
      }
    },
    {
      "cell_type": "code",
      "source": [
        "#Code here"
      ],
      "metadata": {
        "id": "sTcwpUQs9Be8"
      },
      "execution_count": null,
      "outputs": []
    },
    {
      "cell_type": "markdown",
      "source": [
        "Explanation here:"
      ],
      "metadata": {
        "id": "ooaMndOF9Bs6"
      }
    },
    {
      "cell_type": "markdown",
      "source": [
        "4. Visualize the distribution of ticket fares for each passenger class using box plots. How did ticket fares vary across different classes?"
      ],
      "metadata": {
        "id": "7muodsVF8Xk6"
      }
    },
    {
      "cell_type": "code",
      "execution_count": null,
      "metadata": {
        "id": "ESH5sVuY7ycK"
      },
      "outputs": [],
      "source": [
        "# Code here"
      ]
    },
    {
      "cell_type": "markdown",
      "source": [
        "Explanation here:"
      ],
      "metadata": {
        "id": "jiHNgtTV82-2"
      }
    },
    {
      "cell_type": "markdown",
      "source": [
        "5. Create a grouped bar chart to visualize the survival rates of passengers across different age groups and genders. Were certain age groups or genders more likely to survive?"
      ],
      "metadata": {
        "id": "lqq_agWw8mFa"
      }
    },
    {
      "cell_type": "code",
      "source": [
        "# Code here"
      ],
      "metadata": {
        "id": "JW7f-Ky28u3X"
      },
      "execution_count": null,
      "outputs": []
    },
    {
      "cell_type": "markdown",
      "source": [
        "Explanation here:"
      ],
      "metadata": {
        "id": "dzN6WPsF83ya"
      }
    }
  ]
}